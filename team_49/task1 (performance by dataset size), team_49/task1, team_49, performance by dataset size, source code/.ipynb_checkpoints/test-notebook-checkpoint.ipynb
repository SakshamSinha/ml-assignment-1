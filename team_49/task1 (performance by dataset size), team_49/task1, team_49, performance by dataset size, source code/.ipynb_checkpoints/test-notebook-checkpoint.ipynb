{
 "cells": [
  {
   "cell_type": "code",
   "execution_count": 35,
   "metadata": {
    "collapsed": true
   },
   "outputs": [],
   "source": [
    "%matplotlib inline"
   ]
  },
  {
   "cell_type": "code",
   "execution_count": 36,
   "metadata": {
    "collapsed": true
   },
   "outputs": [],
   "source": [
    "import pandas as pd"
   ]
  },
  {
   "cell_type": "code",
   "execution_count": 37,
   "metadata": {
    "collapsed": true
   },
   "outputs": [],
   "source": [
    "import numpy as np\n",
    "from sklearn.model_selection import train_test_split\n",
    "from sklearn import linear_model\n",
    "from sklearn.metrics import mean_squared_error\n",
    "import math\n",
    "import matplotlib.pyplot as plt"
   ]
  },
  {
   "cell_type": "code",
   "execution_count": 38,
   "metadata": {
    "collapsed": true
   },
   "outputs": [],
   "source": [
    "import config as cfg\n",
    "sum_without_noise = cfg.DATA_SETS['sum_without_noise']\n",
    "sum_with_noise = cfg.DATA_SETS['sum_with_noise']"
   ]
  },
  {
   "cell_type": "code",
   "execution_count": 279,
   "metadata": {
    "collapsed": true
   },
   "outputs": [],
   "source": [
    "df = pd.read_csv(sum_without_noise, sep=';')"
   ]
  },
  {
   "cell_type": "code",
   "execution_count": 280,
   "metadata": {
    "collapsed": false
   },
   "outputs": [],
   "source": [
    "df = df.head(500)"
   ]
  },
  {
   "cell_type": "code",
   "execution_count": 281,
   "metadata": {
    "collapsed": false
   },
   "outputs": [],
   "source": [
    "# label encoding\n",
    "df['Target Class (Encoded)'] = df['Target Class'].astype('category')\n",
    "df['Target Class_codes'] = df['Target Class (Encoded)'].cat.codes"
   ]
  },
  {
   "cell_type": "code",
   "execution_count": 282,
   "metadata": {
    "collapsed": false
   },
   "outputs": [],
   "source": [
    "X = df.drop(['Target', 'Target Class', 'Target Class (Encoded)', 'Target Class_codes'], axis=1)\n",
    "X = X.drop('Feature 5 (meaningless)', axis=1)"
   ]
  },
  {
   "cell_type": "code",
   "execution_count": 283,
   "metadata": {
    "collapsed": false
   },
   "outputs": [
    {
     "data": {
      "text/plain": [
       "(500, 1)"
      ]
     },
     "execution_count": 283,
     "metadata": {},
     "output_type": "execute_result"
    }
   ],
   "source": [
    "y = df[['Target Class_codes']]\n",
    "np.shape(y)"
   ]
  },
  {
   "cell_type": "code",
   "execution_count": 284,
   "metadata": {
    "collapsed": true
   },
   "outputs": [],
   "source": [
    "# Split X and y into X_\n",
    "# This is the 70/30 split set\n",
    "X_train, X_test, y_train, y_test = train_test_split(X, y, test_size=0.25, random_state=1)\n",
    "regression_model = linear_model.LogisticRegression()\n",
    "regression_model.fit(X_train, y_train)"
   ]
  },
  {
   "cell_type": "code",
   "execution_count": null,
   "metadata": {
    "collapsed": true
   },
   "outputs": [],
   "source": [
    "# Cross Validation (10 fold)\n",
    "regression_model = linear_model.LogisticRegression()\n",
    "scores = cross_val_score(regression_model, X, np.squeeze(y), cv=10) # np.squeeze required as (a,) needed instead of (a,1)\n",
    "\n",
    "# The mean score and the 95% confidence interval of the score estimate are hence given by\n",
    "print(\"Accuracy: %0.2f (+/- %0.2f)\" % (scores.mean(), scores.std() * 2))"
   ]
  },
  {
   "cell_type": "code",
   "execution_count": 286,
   "metadata": {
    "collapsed": false
   },
   "outputs": [
    {
     "name": "stdout",
     "output_type": "stream",
     "text": [
      "The coefficient for Instance is 0.00447848139289\n",
      "The coefficient for Feature 1 is -2.84445271406e-07\n",
      "The coefficient for Feature 2 is -1.70130442605e-06\n",
      "The coefficient for Feature 3 is -2.30917400826e-06\n",
      "The coefficient for Feature 4 is -2.77575163456e-06\n",
      "The coefficient for Feature 6 is -3.49781292469e-06\n",
      "The coefficient for Feature 7 is -2.65857483784e-06\n",
      "The coefficient for Feature 8 is -3.04867313352e-06\n",
      "The coefficient for Feature 9 is -2.10026256594e-06\n",
      "The coefficient for Feature 10 is -5.20910854297e-06\n"
     ]
    }
   ],
   "source": [
    "for idx, col_name in enumerate(X_train.columns):\n",
    "    print(\"The coefficient for {} is {}\".format(col_name, regression_model.coef_[0][idx]))"
   ]
  },
  {
   "cell_type": "code",
   "execution_count": 287,
   "metadata": {
    "collapsed": false
   },
   "outputs": [
    {
     "name": "stdout",
     "output_type": "stream",
     "text": [
      "The intercept for our model is 2.3170894354e-05\n"
     ]
    }
   ],
   "source": [
    "intercept = regression_model.intercept_[0]\n",
    "\n",
    "print(\"The intercept for our model is {}\".format(intercept))"
   ]
  },
  {
   "cell_type": "code",
   "execution_count": 288,
   "metadata": {
    "collapsed": false
   },
   "outputs": [
    {
     "data": {
      "text/plain": [
       "0.91200000000000003"
      ]
     },
     "execution_count": 288,
     "metadata": {},
     "output_type": "execute_result"
    }
   ],
   "source": [
    "regression_model.score(X_test, y_test)"
   ]
  },
  {
   "cell_type": "code",
   "execution_count": 277,
   "metadata": {
    "collapsed": false
   },
   "outputs": [
    {
     "data": {
      "text/plain": [
       "1.0453707476297585"
      ]
     },
     "execution_count": 277,
     "metadata": {},
     "output_type": "execute_result"
    }
   ],
   "source": [
    "y_predict = regression_model.predict(X_test)\n",
    "\n",
    "regression_model_mse = mean_squared_error(y_predict, y_test)\n",
    "\n",
    "math.sqrt(regression_model_mse)"
   ]
  },
  {
   "cell_type": "code",
   "execution_count": 278,
   "metadata": {
    "collapsed": false
   },
   "outputs": [
    {
     "data": {
      "text/plain": [
       "(array([3, 3, 3, ..., 0, 0, 3], dtype=int8), 9953    3\n",
       " 3850    3\n",
       " 4962    3\n",
       " 3886    0\n",
       " 5437    3\n",
       " 8517    0\n",
       " 2041    3\n",
       " 1989    1\n",
       " 1933    3\n",
       " 9984    3\n",
       " 8418    0\n",
       " 2418    0\n",
       " 6811    0\n",
       " 1217    3\n",
       " 6978    3\n",
       " 6111    0\n",
       " 7865    0\n",
       " 7781    3\n",
       " 7775    3\n",
       " 7039    3\n",
       " 7673    3\n",
       " 2907    3\n",
       " 1266    1\n",
       " 2370    3\n",
       " 3092    3\n",
       " 130     3\n",
       " 1988    0\n",
       " 7877    3\n",
       " 6450    0\n",
       " 6880    3\n",
       "        ..\n",
       " 8088    3\n",
       " 8501    1\n",
       " 6385    0\n",
       " 5473    3\n",
       " 2019    0\n",
       " 3291    0\n",
       " 2975    3\n",
       " 665     0\n",
       " 2253    3\n",
       " 2149    3\n",
       " 5191    0\n",
       " 2912    3\n",
       " 803     3\n",
       " 5511    3\n",
       " 4581    0\n",
       " 9860    3\n",
       " 7730    3\n",
       " 7916    1\n",
       " 9384    0\n",
       " 7927    0\n",
       " 6321    3\n",
       " 7516    0\n",
       " 8895    0\n",
       " 8543    3\n",
       " 8472    0\n",
       " 6955    3\n",
       " 557     3\n",
       " 2455    1\n",
       " 3920    0\n",
       " 6405    3\n",
       " Name: Target Class_codes, Length: 2500, dtype: int8)"
      ]
     },
     "execution_count": 278,
     "metadata": {},
     "output_type": "execute_result"
    }
   ],
   "source": [
    "y_predict, np.squeeze(y_test)"
   ]
  },
  {
   "cell_type": "code",
   "execution_count": 254,
   "metadata": {
    "collapsed": false
   },
   "outputs": [
    {
     "data": {
      "image/png": "[encoded data removed]",
      "text/plain": [
       "<matplotlib.figure.Figure at 0x114aa7710>"
      ]
     },
     "metadata": {},
     "output_type": "display_data"
    }
   ],
   "source": [
    "# plt.scatter(X_test, y_test,  color='black')\n",
    "# plt.plot(X_test, y_predict, color='blue', linewidth=1)\n",
    "# plt.plot(X_test, y_test, color='yellow', linewidth=0.25)\n",
    "\n",
    "plt.scatter(np.squeeze(y_test), y_predict, color = 'blue')\n",
    "\n",
    "\n",
    "plt.show()"
   ]
  },
  {
   "cell_type": "code",
   "execution_count": null,
   "metadata": {
    "collapsed": true
   },
   "outputs": [],
   "source": []
  }
 ],
 "metadata": {
  "kernelspec": {
   "display_name": "Python 2",
   "language": "python",
   "name": "python2"
  },
  "language_info": {
   "codemirror_mode": {
    "name": "ipython",
    "version": 2
   },
   "file_extension": ".py",
   "mimetype": "text/x-python",
   "name": "python",
   "nbconvert_exporter": "python",
   "pygments_lexer": "ipython2",
   "version": "2.7.11"
  }
 },
 "nbformat": 4,
 "nbformat_minor": 0
}
